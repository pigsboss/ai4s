{
 "cells": [
  {
   "cell_type": "code",
   "execution_count": 2,
   "id": "7b03355d-24ec-49b7-bb5f-6df333efd90b",
   "metadata": {},
   "outputs": [],
   "source": [
    "# import getpass\n",
    "import os\n",
    "import bs4\n",
    "os.environ['USER_AGENT'] = 'myagent'\n",
    "from langchain import hub\n",
    "from langchain_ollama import ChatOllama\n",
    "from langchain_ollama import OllamaEmbeddings\n",
    "from langchain_chroma import Chroma\n",
    "from langchain_community.document_loaders import WebBaseLoader\n",
    "from langchain_community.document_loaders import PyMuPDFLoader\n",
    "from langchain_core.documents import Document\n",
    "from langchain_text_splitters import RecursiveCharacterTextSplitter\n",
    "from langgraph.graph import START, StateGraph\n",
    "from typing_extensions import List, TypedDict\n",
    "\n",
    "# os.environ[\"LANGSMITH_TRACING\"] = \"false\""
   ]
  },
  {
   "cell_type": "code",
   "execution_count": 3,
   "id": "cf0119a2-362a-4779-8bb8-82b6e3753445",
   "metadata": {},
   "outputs": [],
   "source": [
    "embeddings = OllamaEmbeddings(model=\"deepseek-r1:70b\")\n",
    "vector_store = Chroma(\n",
    "    embedding_function=embeddings,\n",
    "    persist_directory=\"./chroma_db/\",\n",
    ")"
   ]
  },
  {
   "cell_type": "code",
   "execution_count": 17,
   "id": "cbca76ed-09a1-41a4-a081-72de699e2775",
   "metadata": {},
   "outputs": [
    {
     "name": "stdout",
     "output_type": "stream",
     "text": [
      "  Loading /Users/huo/Projects/ai4s/library/MIT/51279136-MIT-Spacecraft formation flight exploiting potential fields.pdf...\n",
      "  Loading /Users/huo/Projects/ai4s/library/MIT/36829799-MIT-A combination of structurally connected and multiple spacecraft interferometers.pdf...\n",
      "  Loading /Users/huo/Projects/ai4s/library/MIT/49870926-MIT-A structurally coupled disturbance analysis method using dynamic mass measurement techniques, with application to spacecraft-reaction wheel systems.pdf...\n",
      "  Loading /Users/huo/Projects/ai4s/library/MIT/56544294-MIT-Integrated modeling of optical performance for the Terrestrial Planet Finder structurally connected interferometer.pdf...\n",
      "  Loading /Users/huo/Projects/ai4s/library/MIT/54091966-MIT-Optical-level structural modelling of membrane mirrors for spaceborne telescopes.pdf...\n",
      "  Loading /Users/huo/Projects/ai4s/library/MIT/1061505769-MIT-Fine-pointing system development and photometric precision assessment for the transiting exoplanet survey satellite.pdf...\n",
      "  Loading /Users/huo/Projects/ai4s/library/MIT/176870897-MIT-Design and shape control of lightweight mirrors for dynamic performance and athermalization.pdf...\n",
      "  Loading /Users/huo/Projects/ai4s/library/MIT/44606668-MIT-Investigation of spacecraft cluster autonomy through an acoustic imaging interferometric testbed.pdf...\n",
      "  Loading /Users/huo/Projects/ai4s/library/MIT/40170222-MIT-Comparative system trades between structurally connected and separated spacecraft interferometers for the terrestrial planet finder mission.pdf...\n",
      "  Loading /Users/huo/Projects/ai4s/library/MIT/48881197-MIT-Micropropulsion system selection for precision formation flying satellites.pdf...\n",
      "  Loading /Users/huo/Projects/ai4s/library/MIT/45448748-MIT-Development and experimental validation of direct controller tuning for spaceborne telescopes.pdf...\n",
      "  Loading /Users/huo/Projects/ai4s/library/MIT/191223485-MIT-Nonlinear control and synchronization of multiple Lagrangian systems with application to tethered formation flight spacecraft.pdf...\n",
      "  Loading /Users/huo/Projects/ai4s/library/MIT/668104553-MIT-Integrated modeling and design of lightweight, active mirrors for launch survival and on-orbit performance.pdf...\n",
      "  Loading /Users/huo/Projects/ai4s/library/MIT/51283638-MIT-Stochastic performance analysis and staged control system designs for space based interferometers.pdf...\n",
      "  Loading /Users/huo/Projects/ai4s/library/MIT/51276778-MIT-Interferometer architecture trade studies for the Terrestrial Planet Finder Mission.pdf...\n",
      "  Loading /Users/huo/Projects/ai4s/library/MIT/56549174-MIT-Dynamics of multi-body space interferometers including reaction wheel gyroscopic stiffening effects structurally connected and electromagnetic formation of flying architectures.pdf...\n",
      "  Loading /Users/huo/Projects/ai4s/library/MIT/42697334-MIT-Performance assessment and enhancement of precision controlled structures during conceptual design.pdf...\n",
      "  Loading /Users/huo/Projects/ai4s/library/MIT/191672721-MIT-Integrated modeling to facilitate control architecture design for lightweight space telescopes.pdf...\n",
      "  Loading /Users/huo/Projects/ai4s/library/MIT/74278164-MIT-Staged attitude-metrology pointing control and parametric integrated modeling for space-based optical systems.pdf...\n",
      "  Loading /Users/huo/Projects/ai4s/library/MIT/51283859-MIT-Multivariable isoperformance methodology for precision opto-mechanical systems.pdf...\n",
      "  Loading /Users/huo/Projects/ai4s/library/MIT/228880193-MIT-Spatial Nyquist fidelity method for structural models of opto-mechanical systems.pdf...\n",
      "  Loading /Users/huo/Projects/ai4s/library/MIT/668214381-MIT-Acquisition and control of a precision formation flying mission.pdf...\n",
      "  Loading /Users/huo/Projects/ai4s/library/MIT/54091255-MIT-Stochastic performance analysis and staged control system designs for space based interferometers.pdf...\n",
      "  Loading /Users/huo/Projects/ai4s/library/MIT/862434477-MIT-Path planning and position control and of an underactuated electromagnetic formation flight satellite system in the near field.pdf...\n",
      "  Loading /Users/huo/Projects/ai4s/library/MIT/54069126-MIT-Design, implementation and control of a sparse aperture imaging satellite.pdf...\n",
      "  Loading /Users/huo/Projects/ai4s/library/MIT/42695592-MIT-Separated spacecraft interferometry system architecture design and optimization.pdf...\n",
      "  Loading /Users/huo/Projects/ai4s/library/MIT/176894530-MIT-Design and optimization of lightweight space telescope structures.pdf...\n",
      "  Loading /Users/huo/Projects/ai4s/library/MIT/910634554-MIT-Development and validation of an Electromagnetic Formation Flight simulation as a platform for control algorithm design.pdf...\n",
      "  Loading /Users/huo/Projects/ai4s/library/MIT/496301270-MIT-Trajectory design and control for formation flying spaceborne interferometers.pdf...\n",
      "  Loading /Users/huo/Projects/ai4s/library/MIT/51277085-MIT-A real-time simulator for the SPHERES formation flying satellites testbed .pdf...\n",
      "  Loading /Users/huo/Projects/ai4s/library/MIT/60458866-MIT-Electromagnetic formation flight of satellite arrays.pdf...\n",
      "  Loading /Users/huo/Projects/ai4s/library/MIT/639262143-MIT-Assessing the impacts of fractionation on pointing-intensive spacecraft.pdf...\n",
      "  Loading /Users/huo/Projects/ai4s/library/MIT/44021985-MIT-Integrated modeling and dynamics simulation for the next generation space telescope .pdf...\n"
     ]
    }
   ],
   "source": [
    "# Load and chunk contents of the blog\n",
    "#loader = WebBaseLoader(\n",
    "#    web_paths=(\"http://www.dengzhou.gov.cn/dzszj/zjxw/zwyw/webinfo/2024/11/1723956574402713.htm\",),\n",
    "#    bs_kwargs=dict(\n",
    "#        parse_only=bs4.SoupStrainer(\n",
    "#            class_=(\"post-content\", \"post-title\", \"post-header\")\n",
    "#        )\n",
    "#    ),\n",
    "#)\n",
    "libdir = \"../library/MIT\"\n",
    "papers = []\n",
    "all_splits = []\n",
    "for f in os.listdir(libdir):\n",
    "    if f.endswith(\".pdf\"):\n",
    "        papers.append(path.abspath(path.join(libdir, f)))\n",
    "for f in papers:\n",
    "    loader = PyMuPDFLoader(path.normpath(f))\n",
    "    docs = loader.load()\n",
    "    text_splitter = RecursiveCharacterTextSplitter(chunk_size=1024, chunk_overlap=256)\n",
    "    all_splits += text_splitter.split_documents(docs)"
   ]
  },
  {
   "cell_type": "code",
   "execution_count": 18,
   "id": "afe03424-207e-4951-8d0c-7cada996cb17",
   "metadata": {},
   "outputs": [],
   "source": [
    "# Index chunks\n",
    "_ = vector_store.add_documents(documents=all_splits)"
   ]
  },
  {
   "cell_type": "code",
   "execution_count": 4,
   "id": "9ccf97f5-821b-4d92-be26-fc0df813a698",
   "metadata": {},
   "outputs": [],
   "source": [
    "# Define prompt for question-answering\n",
    "prompt = hub.pull(\"rlm/rag-prompt\")\n",
    "\n",
    "llm = ChatOllama(\n",
    "    model=\"deepseek-r1:70b\",\n",
    "    temperature=0.0,\n",
    "    num_predict=-1\n",
    ")\n",
    "\n",
    "# Define state for application\n",
    "class State(TypedDict):\n",
    "    question: str\n",
    "    context: List[Document]\n",
    "    answer: str\n",
    "\n",
    "# Define application steps\n",
    "def retrieve(state: State):\n",
    "    retrieved_docs = vector_store.similarity_search(state[\"question\"])\n",
    "    return {\"context\": retrieved_docs}\n",
    "\n",
    "def generate(state: State):\n",
    "    docs_content = \"\\n\\n\".join(doc.page_content for doc in state[\"context\"])\n",
    "    messages = prompt.invoke({\"question\": state[\"question\"], \"context\": docs_content})\n",
    "    response = llm.invoke(messages)\n",
    "    return {\"answer\": response.content}\n",
    "\n",
    "# Compile application and test\n",
    "graph_builder = StateGraph(State).add_sequence([retrieve, generate])\n",
    "graph_builder.add_edge(START, \"retrieve\")\n",
    "graph = graph_builder.compile()"
   ]
  },
  {
   "cell_type": "code",
   "execution_count": 7,
   "id": "d77badc7-f41e-45b4-ae95-4e2cd9bfeae3",
   "metadata": {},
   "outputs": [
    {
     "name": "stdout",
     "output_type": "stream",
     "text": [
      "<think>\n",
      "Okay, so I need to compare structurally connected interferometers and separated interferometers based on the provided context. Let me go through the context step by step.\n",
      "\n",
      "First, looking at section 5.6.4 about formation flying spacecraft, it mentions that free-flying systems are inherently uncoupled. This suggests that separated interferometers don't have a physical connection between the components, which makes sense because they're on different spacecraft. The synchronization strategy here involves maintaining a desired baseline length, which is crucial for interferometry as it affects resolution.\n",
      "\n",
      "In contrast, structurally connected interferometers would have their components physically linked, perhaps on the same platform or structure. This likely provides mechanical stability and easier alignment since everything is fixed in place. However, this setup might limit flexibility, especially if you need to adjust the baseline length for different observations.\n",
      "\n",
      "The context also mentions something about rotating interferometers, which could be a type of structurally connected system since rotation implies a fixed setup. They rotate at a constant rate while taking images, which probably aids in data collection but might not offer the same versatility as separated systems that can adjust their baseline dynamically.\n",
      "\n",
      "So, putting it together: Structurally connected interferometers are physically linked, offering stability and easier alignment but less flexibility. Separated ones, like those on formation flying spacecraft, allow for adjustable baselines and greater observational flexibility but require precise synchronization to maintain the necessary distance and alignment.\n",
      "</think>\n",
      "\n",
      "Structurally connected interferometers are physically linked, providing stability and ease of alignment but limiting baseline flexibility. Separated interferometers, such as those in formation flying, offer adjustable baselines for varied observations but require precise synchronization to maintain alignment and distance.\n"
     ]
    }
   ],
   "source": [
    "response = graph.invoke({\"question\": \"compare structurally connected interferometer and separated interferometer\"})\n",
    "print(response[\"answer\"])"
   ]
  },
  {
   "cell_type": "code",
   "execution_count": null,
   "id": "14f400c7-f16d-470d-8b1c-f4bbac742226",
   "metadata": {},
   "outputs": [],
   "source": []
  }
 ],
 "metadata": {
  "kernelspec": {
   "display_name": "Python 3 (ipykernel)",
   "language": "python",
   "name": "python3"
  },
  "language_info": {
   "codemirror_mode": {
    "name": "ipython",
    "version": 3
   },
   "file_extension": ".py",
   "mimetype": "text/x-python",
   "name": "python",
   "nbconvert_exporter": "python",
   "pygments_lexer": "ipython3",
   "version": "3.12.9"
  }
 },
 "nbformat": 4,
 "nbformat_minor": 5
}
