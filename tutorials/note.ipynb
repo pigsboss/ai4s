{
 "cells": [
  {
   "cell_type": "code",
   "execution_count": 1,
   "id": "7b03355d-24ec-49b7-bb5f-6df333efd90b",
   "metadata": {},
   "outputs": [
    {
     "name": "stderr",
     "output_type": "stream",
     "text": [
      "USER_AGENT environment variable not set, consider setting it to identify your requests.\n"
     ]
    }
   ],
   "source": [
    "import getpass\n",
    "import os\n",
    "import bs4\n",
    "from langchain import hub\n",
    "from langchain_ollama import ChatOllama\n",
    "from langchain_ollama import OllamaEmbeddings\n",
    "from langchain_chroma import Chroma\n",
    "from langchain_community.document_loaders import WebBaseLoader\n",
    "from langchain_community.document_loaders import PyMuPDFLoader\n",
    "from langchain_core.documents import Document\n",
    "from langchain_text_splitters import RecursiveCharacterTextSplitter\n",
    "from langgraph.graph import START, StateGraph\n",
    "from typing_extensions import List, TypedDict\n",
    "\n",
    "os.environ[\"LANGSMITH_TRACING\"] = \"false\""
   ]
  },
  {
   "cell_type": "code",
   "execution_count": 2,
   "id": "cf0119a2-362a-4779-8bb8-82b6e3753445",
   "metadata": {},
   "outputs": [],
   "source": [
    "embeddings = OllamaEmbeddings(model=\"deepseek-r1:70b\")\n",
    "vector_store = Chroma(\n",
    "    embedding_function=embeddings,\n",
    "    persist_directory=\"./chroma_db/\",\n",
    ")"
   ]
  },
  {
   "cell_type": "code",
   "execution_count": 3,
   "id": "cbca76ed-09a1-41a4-a081-72de699e2775",
   "metadata": {},
   "outputs": [],
   "source": [
    "# Load and chunk contents of the blog\n",
    "#loader = WebBaseLoader(\n",
    "#    web_paths=(\"http://www.dengzhou.gov.cn/dzszj/zjxw/zwyw/webinfo/2024/11/1723956574402713.htm\",),\n",
    "#    bs_kwargs=dict(\n",
    "#        parse_only=bs4.SoupStrainer(\n",
    "#            class_=(\"post-content\", \"post-title\", \"post-header\")\n",
    "#        )\n",
    "#    ),\n",
    "#)\n",
    "loader = PyMuPDFLoader(\n",
    "    file_path=\"../library/MIT/36829799-MIT-A combination of structurally connected and multiple spacecraft interferometers.pdf\"\n",
    ")\n",
    "docs = loader.load()\n",
    "text_splitter = RecursiveCharacterTextSplitter(chunk_size=1000, chunk_overlap=200)\n",
    "all_splits = text_splitter.split_documents(docs)\n",
    "loader = PyMuPDFLoader(\n",
    "    file_path=\"../library/MIT/40170222-MIT-Comparative system trades between structurally connected and separated spacecraft interferometers for the terrestrial planet finder mission.pdf\"\n",
    ")\n",
    "docs = loader.load()\n",
    "text_splitter = RecursiveCharacterTextSplitter(chunk_size=1000, chunk_overlap=200)\n",
    "all_splits += text_splitter.split_documents(docs)"
   ]
  },
  {
   "cell_type": "code",
   "execution_count": 4,
   "id": "afe03424-207e-4951-8d0c-7cada996cb17",
   "metadata": {},
   "outputs": [],
   "source": [
    "# Index chunks\n",
    "_ = vector_store.add_documents(documents=all_splits)"
   ]
  },
  {
   "cell_type": "code",
   "execution_count": 6,
   "id": "9ccf97f5-821b-4d92-be26-fc0df813a698",
   "metadata": {},
   "outputs": [],
   "source": [
    "# Define prompt for question-answering\n",
    "prompt = hub.pull(\"rlm/rag-prompt\")\n",
    "\n",
    "llm = ChatOllama(\n",
    "    model=\"deepseek-r1:70b\",\n",
    "    temperature=0.0,\n",
    "    num_predict=-1\n",
    ")\n",
    "\n",
    "# Define state for application\n",
    "class State(TypedDict):\n",
    "    question: str\n",
    "    context: List[Document]\n",
    "    answer: str\n",
    "\n",
    "# Define application steps\n",
    "def retrieve(state: State):\n",
    "    retrieved_docs = vector_store.similarity_search(state[\"question\"])\n",
    "    return {\"context\": retrieved_docs}\n",
    "\n",
    "def generate(state: State):\n",
    "    docs_content = \"\\n\\n\".join(doc.page_content for doc in state[\"context\"])\n",
    "    messages = prompt.invoke({\"question\": state[\"question\"], \"context\": docs_content})\n",
    "    response = llm.invoke(messages)\n",
    "    return {\"answer\": response.content}\n",
    "\n",
    "# Compile application and test\n",
    "graph_builder = StateGraph(State).add_sequence([retrieve, generate])\n",
    "graph_builder.add_edge(START, \"retrieve\")\n",
    "graph = graph_builder.compile()"
   ]
  },
  {
   "cell_type": "code",
   "execution_count": 7,
   "id": "d77badc7-f41e-45b4-ae95-4e2cd9bfeae3",
   "metadata": {},
   "outputs": [
    {
     "name": "stdout",
     "output_type": "stream",
     "text": [
      "<think>\n",
      "Okay, so I need to figure out what the limits of a structurally connected multiple spacecraft interferometer are based on the provided context. Let me go through this step by step.\n",
      "\n",
      "First, looking at the context, there's mention of figures and tables related to parameters like thruster force, baseline distances, and constraints such as C2, C3, etc. It seems like these constraints are affecting the design or performance of the interferometer.\n",
      "\n",
      "I see that Figure 5-18 talks about aspect ratio and areal density being limited by dry mass (C1), frequency (C2), and minimum gage (C5). So, these must be some of the key limiting factors. The context also mentions that at a 10 m baseline, only certain constraints like C2 are active, which probably means they impose specific limits on how the interferometer can operate.\n",
      "\n",
      "There's another part about propellant mass rates and mission durations. It says that for missions longer than 367 years, the propellant mass fraction becomes a concern, but that's beyond reasonable mission lengths. So, while this isn't a current limit, it shows that fuel constraints could affect long-term operations.\n",
      "\n",
      "Additionally, figures like 5-27 to 5-32 discuss various structural aspects such as attitude control thruster size, fundamental frequencies, internal stress, normal force, and stochastic displacements. These all relate to the physical integrity and stability of the spacecraft, which are crucial for maintaining the interferometer's functionality.\n",
      "\n",
      "Putting this together, the main limits seem to be related to structural integrity constraints (like C2 affecting frequency), propellant mass considerations for longer missions, and the physical stability factors like stress and displacement that ensure the spacecraft remain aligned properly. These elements would restrict how the interferometer can be designed and operated effectively.\n",
      "</think>\n",
      "\n",
      "The structurally connected multiple spacecraft interferometer faces limits primarily from structural integrity constraints, such as frequency (C2), which affect its operational parameters. Additionally, propellant mass constraints become significant for missions exceeding reasonable durations, though they are less pressing for shorter-term operations. Physical stability factors like internal stress and stochastic displacements also play a crucial role in maintaining the interferometer's functionality and alignment.\n"
     ]
    }
   ],
   "source": [
    "response = graph.invoke({\"question\": \"What are the limits of structurally connected multiple spacecraft interferometer?\"})\n",
    "print(response[\"answer\"])"
   ]
  },
  {
   "cell_type": "code",
   "execution_count": 8,
   "id": "cfd62c86-d4d7-4134-90cc-b5115958021d",
   "metadata": {},
   "outputs": [
    {
     "name": "stdout",
     "output_type": "stream",
     "text": [
      "<think>\n",
      "Okay, so I need to figure out what the suggestion is for an interferometer with a 300-meter baseline based on the provided context. Let me start by reading through the context carefully.\n",
      "\n",
      "The context mentions several figures and tables related to different parameters of an interferometer. It talks about operational scenarios where both rotating and non-rotating interferometers are studied, but it doesn't specify which one is better for a 300-meter baseline. \n",
      "\n",
      "Looking at Figure 5-40, it shows average propellant mass rates versus baseline for mission lengths from one week to thirty years. The critical time curve in Figure 5-42 has a steep slope because the propellant mass rates are small. It also mentions that even though MSI's propellant rate is higher than SCI's, the absolute magnitude is so small that it would take a long time for the extra propellant needed for MSI to equal the extra structural mass of SCI.\n",
      "\n",
      "Figure 5-41 includes a constraint (C8) for MSI where the propellant mass fraction exceeds 30% for missions longer than 367 years. This seems way beyond reasonable mission durations, so maybe it's not a concern here.\n",
      "\n",
      "In Figure 5-18, for a 10-meter baseline, only dry mass, frequency, and minimum gage constraints are active. Other constraints don't limit the acceptable combinations of aspect ratio and areal density at that baseline. But since we're looking at 300 meters, which is much longer, I wonder if other constraints become more significant.\n",
      "\n",
      "The context also mentions thruster forces and stress on struts in various figures, but without specific details on how these relate to a 300-meter setup. It does talk about attitude control thrusters and their sizes, which might be relevant for maintaining stability over such a long baseline.\n",
      "\n",
      "I'm not seeing any direct mention of a 300-meter baseline in the context provided. The discussion focuses more on shorter baselines like 10 meters and the constraints associated with them. Without specific data or figures addressing a 300-meter setup, it's hard to make an informed suggestion based solely on this information.\n",
      "\n",
      "Therefore, I don't have enough details from the given context to provide a suggestion for an interferometer with a 300-meter baseline.\n",
      "</think>\n",
      "\n",
      "I don't know the answer.\n"
     ]
    }
   ],
   "source": [
    "response = graph.invoke({\"question\": \"What is your suggestion for an interferometer with 300-metre baseline?\"})\n",
    "print(response[\"answer\"])"
   ]
  },
  {
   "cell_type": "code",
   "execution_count": 9,
   "id": "ef5234ca-b0cb-47cc-b8d8-b28cc34c0354",
   "metadata": {},
   "outputs": [
    {
     "name": "stdout",
     "output_type": "stream",
     "text": [
      "<think>\n",
      "Okay, so I need to figure out the differences between a separated spacecraft interferometer and a structurally connected multiple spacecraft interferometer based on the provided context. Let me start by reading through the context carefully.\n",
      "\n",
      "Looking at the context, it seems to be from a technical document discussing various parameters related to space interferometers. There are mentions of figures like Figure 5-27, 5-28, etc., which probably contain data on things like thruster force, baseline lengths, stress, and propellant mass rates.\n",
      "\n",
      "I notice that terms like \"SCI\" and \"MSI\" appear in the context. I'm guessing SCI stands for Structurally Connected Interferometer and MSI might be Multiple Spacecraft Interferometer or something similar. The figures compare parameters between these two systems over different baselines, which is the distance between the spacecraft.\n",
      "\n",
      "In Figure 5-40, it shows average propellant mass rates versus baseline for both SCI and MSI across mission durations from one week to thirty years. It mentions that the critical time curve has a steep slope because propellant mass rates are small. Even though MSI uses more propellant than SCI, the absolute amount is so small that over long missions, the extra propellant needed for MSI might equal the structural mass of SCI.\n",
      "\n",
      "Another figure, 5-41, talks about a propellant mass fraction constraint (C8) for MSI, which becomes significant only after very long mission times, beyond practical ranges. This suggests that for reasonable missions, MSI's propellant needs are manageable but might not be as efficient in some aspects compared to SCI.\n",
      "\n",
      "Looking at Figure 5-18, it discusses constraints like dry mass (Cl), frequency (C2), and minimum gage (C5). For a 10m baseline, these constraints limit the acceptable combinations of aspect ratio and areal density. This implies that structurally connected systems might have different design considerations than separated ones.\n",
      "\n",
      "Putting this together, I think the main differences lie in how the spacecraft are connected. A structurally connected interferometer (SCI) likely has all components attached to a single structure, which would mean less need for propulsion since they don't have to maintain formation by themselves. This could lead to lower propellant mass rates but might require more structural mass to keep everything rigid and stable.\n",
      "\n",
      "On the other hand, a separated or multiple spacecraft interferometer (MSI) involves individual spacecraft that are not physically connected. They must use thrusters to maintain their positions relative to each other, which increases the need for propellant. However, this setup might offer more flexibility in deployment and scaling, especially over longer baselines where a single structure wouldn't be feasible.\n",
      "\n",
      "The context also mentions that for very long missions (over 367 years), MSI's propellant mass fraction exceeds 30%, but such mission lengths are beyond typical practical ranges. This suggests that while MSI is less efficient in terms of propellant for extremely long missions, it's still viable for standard durations.\n",
      "\n",
      "In summary, the key differences seem to be structural connectivity versus separation, affecting factors like propellant usage, structural mass requirements, and mission duration considerations.\n",
      "</think>\n",
      "\n",
      "A separated spacecraft interferometer (MSI) uses multiple independent spacecraft requiring thrusters to maintain formation, increasing propellant needs but offering deployment flexibility. A structurally connected interferometer (SCI) has components attached to a single structure, reducing propellant use but needing more structural mass for stability. MSI is less efficient in propellant for very long missions but remains practical for typical durations.\n"
     ]
    }
   ],
   "source": [
    "response = graph.invoke({\"question\": \"What are the differences between a separated spacecraft interferometer and a structurally connected multiple spacecraft interferometer?\"})\n",
    "print(response[\"answer\"])"
   ]
  },
  {
   "cell_type": "code",
   "execution_count": null,
   "id": "1ce04c6d-8775-44bc-b36a-22a2d1c6849a",
   "metadata": {},
   "outputs": [],
   "source": []
  }
 ],
 "metadata": {
  "kernelspec": {
   "display_name": "Python 3 (ipykernel)",
   "language": "python",
   "name": "python3"
  },
  "language_info": {
   "codemirror_mode": {
    "name": "ipython",
    "version": 3
   },
   "file_extension": ".py",
   "mimetype": "text/x-python",
   "name": "python",
   "nbconvert_exporter": "python",
   "pygments_lexer": "ipython3",
   "version": "3.12.9"
  }
 },
 "nbformat": 4,
 "nbformat_minor": 5
}
